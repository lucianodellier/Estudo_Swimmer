{
  "nbformat": 4,
  "nbformat_minor": 0,
  "metadata": {
    "colab": {
      "name": "QLAnalis.ipynb",
      "provenance": [],
      "collapsed_sections": [],
      "authorship_tag": "ABX9TyPHxbFVqYVa+G2P+XO3ZBQX"
    },
    "kernelspec": {
      "name": "python3",
      "display_name": "Python 3"
    },
    "language_info": {
      "name": "python"
    }
  },
  "cells": [
    {
      "cell_type": "code",
      "execution_count": null,
      "metadata": {
        "id": "6u1HGfXA-51I"
      },
      "outputs": [],
      "source": [
        "import numpy as np\n",
        "import os\n",
        "import copy\n",
        "import matplotlib.pylab as plt\n",
        "import scipy.signal\n"
      ]
    },
    {
      "cell_type": "code",
      "source": [
        "!wget https://raw.githubusercontent.com/lucianodellier/Estudo_Swimmer/main/DadosNumpy500-5000/evolqlquantities_numpy_500steps.txt -O evolqlquantities.txt &> /dev/null\n",
        "!wget https://raw.githubusercontent.com/lucianodellier/Estudo_Swimmer/main/DadosNumpy500-5000/deltas.txt -O deltas.txt &> /dev/null"
      ],
      "metadata": {
        "id": "53E0x0e0CPIm"
      },
      "execution_count": 1,
      "outputs": []
    },
    {
      "cell_type": "code",
      "source": [
        "dir_   = '.'\n",
        "eqlfile = 'evolqlquantities.txt'\n",
        "EQL = np.loadtxt(dir_+'/'+eqlfile)\n",
        "\n",
        "deltasfile = 'deltas.txt'\n",
        "DELTAS = np.loadtxt(dir_+'/'+deltasfile)\n"
      ],
      "metadata": {
        "id": "wTBVBmm9GHSW"
      },
      "execution_count": null,
      "outputs": []
    },
    {
      "cell_type": "code",
      "source": [
        "nballs = 4\n",
        "nlinks = nballs-1\n",
        "nstates = 2**nlinks\n",
        "nactions = nlinks\n",
        "ndeltas = 6\n",
        "\n",
        "tfdata = 500 \n",
        "nqlsteps = tfdata\n",
        "\n",
        "s_batch  = np.asarray(EQL[:tfdata,0],dtype=np.int32)\n",
        "a_batch  = np.asarray(EQL[:tfdata,1],dtype=np.int32)\n",
        "sn_batch = np.asarray(EQL[:tfdata,2],dtype=np.int32)\n",
        "x_batch = np.asarray(EQL[:tfdata,3],dtype=np.int32)\n",
        "y_batch = np.asarray(EQL[:tfdata,4],dtype=np.int32)\n",
        "xn_batch = np.asarray(EQL[:tfdata,5],dtype=np.int32)\n",
        "yn_batch = np.asarray(EQL[:tfdata,6],dtype=np.int32)\n",
        "theta_batch = np.asarray(EQL[:tfdata,7],dtype=np.int32)\n",
        "thetan_batch = np.asarray(EQL[:tfdata,8],dtype=np.int32)\n",
        "\n",
        "rcase = 1\n",
        "\n",
        "if rcase == 1: #rotation\n",
        "    r_batch = EQL[:tfdata,8] - EQL[:tfdata,7]"
      ],
      "metadata": {
        "id": "gP4ewQbUcHgh"
      },
      "execution_count": null,
      "outputs": []
    },
    {
      "cell_type": "code",
      "source": [
        "def QL_steps_zb(s_batch,sn_batch,a_batch,r_batch,alpha,gamma):\n",
        "  # Initilize QL matrix\n",
        "\n",
        "  MQL  = np.zeros((nstates,nactions))\n",
        "  MQLn = np.zeros((nstates,nactions))\n",
        "  DMQL = []\n",
        "\n",
        "  # QL steps\n",
        "  for it in range(nqlsteps):   \n",
        "    \n",
        "    # Learning  #######################################################    \n",
        "    prev_state_dec  = s_batch[it]\n",
        "    next_action_dec = a_batch[it]\n",
        "    next_state_dec  = sn_batch[it]\n",
        "    next_MQLmax     = np.max(MQL[next_state_dec,:])\n",
        "    current_MQLval  = MQL[prev_state_dec,next_action_dec]\n",
        "    current_reward  = r_batch[it]    \n",
        "\n",
        "    MQL[prev_state_dec,next_action_dec] = (1-alpha)*current_MQLval + \\\n",
        "      alpha*(current_reward + gamma*next_MQLmax)\n",
        "\n",
        "    DMQL.append(np.linalg.norm(MQL-MQLn))\n",
        "    MQLn = copy.deepcopy(MQL)    \n",
        "\n",
        "  return MQL, DMQL\n",
        "\n",
        "\n",
        "def replay_zb(MQL,s_batch,sn_batch,a_batch,r_batch,alpha,gamma,DMQL):\n",
        "   \n",
        "   nreplay = 2500 \n",
        "   MQLC = copy.deepcopy(MQL)\n",
        "   MQLn = copy.deepcopy(MQL)\n",
        "   #DQ = []\n",
        "   for i in range(nreplay):     \n",
        "      rl = np.random.randint(s_batch.shape[0], size=1)[0]\n",
        "      prev_state_dec    = s_batch[rl]\n",
        "      next_action_dec   = a_batch[rl]\n",
        "      next_state_dec    = sn_batch[rl]\n",
        "      next_MQLmax       = np.max(MQLC[next_state_dec,:])\n",
        "      current_MQLval    = MQLC[prev_state_dec,next_action_dec]\n",
        "      current_reward    = r_batch[rl]\n",
        "      \n",
        "      MQLC[prev_state_dec,next_action_dec] = (1-alpha)*current_MQLval + \\\n",
        "         alpha*(current_reward + gamma*next_MQLmax)\n",
        "         \n",
        "      DMQL.append(np.max(MQLC-MQLn)) #DMQL.append(np.linalg.norm(MQLC-MQLn))\n",
        "      MQLn = copy.deepcopy(MQLC)\n",
        "   \n",
        "      \n",
        "   return MQLC, DMQL  \n",
        "\n",
        "def find_gait_zb(state_dec, MQL):\n",
        "  \n",
        "  vel = 0.0\n",
        "  slist = []\n",
        "  alist = []\n",
        "  current_state_dec = state_dec\n",
        "  Deltas = ReadDeltasTables(ndeltas, nstates, nactions, DELTAS)\n",
        "  \n",
        "  for j in range(10):\n",
        "    action = np.zeros(nlinks, dtype=int)\n",
        "    aux_current = np.array([int(i) for i in np.binary_repr(current_state_dec,width=nlinks)])\n",
        "    action[np.argmax(MQL[current_state_dec,:])] = 1\n",
        "    aux_state = np.remainder(aux_current+action,2*np.ones(nlinks, dtype=int))    \n",
        "    next_state_dec = np.dot(aux_state,2**np.arange(nlinks-1,-1,-1,dtype=int))\n",
        "    \n",
        "    if(j > 5):\n",
        "        vel += Deltas[2][current_state_dec, action.argmax()]\n",
        "    \n",
        "    slist.append(current_state_dec)\n",
        "    alist.append(action)\n",
        "    \n",
        "    current_state_dec = next_state_dec \n",
        "  \n",
        "  vel = vel/4\n",
        "  return slist, alist,vel\n",
        "\n",
        "def ReadDeltasTables(ndeltas, nstates, nactions, filetable):            \n",
        "    \n",
        "    A = filetable\n",
        "    Deltas = []\n",
        "    for d in range(ndeltas):\n",
        "        Deltas.append(np.zeros(shape=(nstates, nactions)))\n",
        "        for state in range(nstates):\n",
        "            Deltas[d][state, :] = A[d * nstates + state, :]\n",
        "    return Deltas  \n",
        "  "
      ],
      "metadata": {
        "id": "mdTw20Wvhhe2"
      },
      "execution_count": null,
      "outputs": []
    },
    {
      "cell_type": "code",
      "source": [
        "gammalist = [0.999,0.99,0.95,0.9,0.7,0.1] #0.96\n",
        "alphalist = [1.0,0.5,0.1]\n",
        "\n",
        "for alpha in alphalist:\n",
        "  for gamma in gammalist:\n",
        "    MQL, DMQL = QL_steps_zb(s_batch,sn_batch,a_batch,r_batch,alpha,gamma)\n",
        "\n",
        "    prev_state_dec  = s_batch[0]\n",
        "    slist, alist, vel = find_gait_zb(prev_state_dec, MQL)\n",
        "    FDMQL = scipy.signal.savgol_filter(DMQL,15,0)\n",
        "    print(f'alpha = {alpha}, gamma = {gamma:.3f}, dQ = {FDMQL[-1]:e}, {slist}, vel = {vel:.3f}')\n",
        "    \n",
        "    "
      ],
      "metadata": {
        "colab": {
          "base_uri": "https://localhost:8080/"
        },
        "id": "v8ZP8DQPqKab",
        "outputId": "4267d656-f725-4f68-a152-2de57d103774"
      },
      "execution_count": null,
      "outputs": [
        {
          "output_type": "stream",
          "name": "stdout",
          "text": [
            "alpha = 1.0, gamma = 0.999, dQ = 4.712329e-03, [0, 4, 6, 2, 3, 7, 5, 1, 0, 4], vel = -0.110\n",
            "alpha = 1.0, gamma = 0.990, dQ = 4.051837e-04, [0, 4, 5, 1, 0, 4, 5, 1, 0, 4], vel = 0.008\n",
            "alpha = 1.0, gamma = 0.950, dQ = 2.864333e-03, [0, 1, 0, 1, 0, 1, 0, 1, 0, 1], vel = 0.000\n",
            "alpha = 1.0, gamma = 0.900, dQ = 2.129663e-03, [0, 1, 0, 1, 0, 1, 0, 1, 0, 1], vel = 0.000\n",
            "alpha = 1.0, gamma = 0.700, dQ = 6.587908e-05, [0, 1, 0, 1, 0, 1, 0, 1, 0, 1], vel = 0.000\n",
            "alpha = 1.0, gamma = 0.100, dQ = 1.713336e-11, [0, 1, 0, 1, 0, 1, 0, 1, 0, 1], vel = 0.000\n",
            "alpha = 0.5, gamma = 0.999, dQ = 2.059390e-03, [0, 4, 6, 2, 3, 7, 5, 1, 0, 4], vel = -0.110\n",
            "alpha = 0.5, gamma = 0.990, dQ = 3.101709e-04, [0, 4, 5, 1, 0, 4, 5, 1, 0, 4], vel = 0.008\n",
            "alpha = 0.5, gamma = 0.950, dQ = 1.018289e-03, [0, 1, 0, 1, 0, 1, 0, 1, 0, 1], vel = 0.000\n",
            "alpha = 0.5, gamma = 0.900, dQ = 1.398558e-03, [0, 1, 0, 1, 0, 1, 0, 1, 0, 1], vel = 0.000\n",
            "alpha = 0.5, gamma = 0.700, dQ = 7.966224e-04, [0, 1, 0, 1, 0, 1, 0, 1, 0, 1], vel = 0.000\n",
            "alpha = 0.5, gamma = 0.100, dQ = 1.278632e-05, [0, 1, 0, 1, 0, 1, 0, 1, 0, 1], vel = 0.000\n",
            "alpha = 0.1, gamma = 0.999, dQ = 1.325906e-02, [0, 1, 0, 1, 0, 1, 0, 1, 0, 1], vel = 0.000\n",
            "alpha = 0.1, gamma = 0.990, dQ = 1.312700e-02, [0, 1, 0, 1, 0, 1, 0, 1, 0, 1], vel = 0.000\n",
            "alpha = 0.1, gamma = 0.950, dQ = 1.253935e-02, [0, 1, 0, 1, 0, 1, 0, 1, 0, 1], vel = 0.000\n",
            "alpha = 0.1, gamma = 0.900, dQ = 1.180524e-02, [0, 1, 0, 1, 0, 1, 0, 1, 0, 1], vel = 0.000\n",
            "alpha = 0.1, gamma = 0.700, dQ = 8.999565e-03, [0, 1, 0, 1, 0, 1, 0, 1, 0, 1], vel = 0.000\n",
            "alpha = 0.1, gamma = 0.100, dQ = 8.393315e-03, [0, 1, 0, 1, 0, 1, 0, 1, 0, 1], vel = 0.000\n"
          ]
        }
      ]
    }
  ]
}